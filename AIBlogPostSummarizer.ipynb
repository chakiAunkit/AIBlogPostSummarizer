{
  "nbformat": 4,
  "nbformat_minor": 0,
  "metadata": {
    "colab": {
      "name": "AIBlogPostSummarizer.ipynb",
      "provenance": [],
      "authorship_tag": "ABX9TyPYqHWV9mLGkSuIw2XRtEzL",
      "include_colab_link": true
    },
    "kernelspec": {
      "name": "python3",
      "display_name": "Python 3"
    },
    "language_info": {
      "name": "python"
    },
    "accelerator": "GPU",
    "widgets": {
      "application/vnd.jupyter.widget-state+json": {
        "302d34e4d08d4ee585b73fc15bdd4e09": {
          "model_module": "@jupyter-widgets/controls",
          "model_name": "HBoxModel",
          "model_module_version": "1.5.0",
          "state": {
            "_dom_classes": [],
            "_model_module": "@jupyter-widgets/controls",
            "_model_module_version": "1.5.0",
            "_model_name": "HBoxModel",
            "_view_count": null,
            "_view_module": "@jupyter-widgets/controls",
            "_view_module_version": "1.5.0",
            "_view_name": "HBoxView",
            "box_style": "",
            "children": [
              "IPY_MODEL_57e91cd643a844548d5906b788a7aed3",
              "IPY_MODEL_63776acd41f74403a10d4a445252e905",
              "IPY_MODEL_4372b6b57f2740119cf22888283fcd0b"
            ],
            "layout": "IPY_MODEL_f2283a4d379b4bb8b2b542eae48e88fe"
          }
        },
        "57e91cd643a844548d5906b788a7aed3": {
          "model_module": "@jupyter-widgets/controls",
          "model_name": "HTMLModel",
          "model_module_version": "1.5.0",
          "state": {
            "_dom_classes": [],
            "_model_module": "@jupyter-widgets/controls",
            "_model_module_version": "1.5.0",
            "_model_name": "HTMLModel",
            "_view_count": null,
            "_view_module": "@jupyter-widgets/controls",
            "_view_module_version": "1.5.0",
            "_view_name": "HTMLView",
            "description": "",
            "description_tooltip": null,
            "layout": "IPY_MODEL_42a964d00e69458dbcc01a92ee6e1787",
            "placeholder": "​",
            "style": "IPY_MODEL_33f31655f7d8421faa3bb5fb8afba431",
            "value": "Downloading: 100%"
          }
        },
        "63776acd41f74403a10d4a445252e905": {
          "model_module": "@jupyter-widgets/controls",
          "model_name": "FloatProgressModel",
          "model_module_version": "1.5.0",
          "state": {
            "_dom_classes": [],
            "_model_module": "@jupyter-widgets/controls",
            "_model_module_version": "1.5.0",
            "_model_name": "FloatProgressModel",
            "_view_count": null,
            "_view_module": "@jupyter-widgets/controls",
            "_view_module_version": "1.5.0",
            "_view_name": "ProgressView",
            "bar_style": "success",
            "description": "",
            "description_tooltip": null,
            "layout": "IPY_MODEL_35c4c93348f349be90cd6dc95a6874b1",
            "max": 1802,
            "min": 0,
            "orientation": "horizontal",
            "style": "IPY_MODEL_6183d0ea2e3e48d79e6a18987603ba07",
            "value": 1802
          }
        },
        "4372b6b57f2740119cf22888283fcd0b": {
          "model_module": "@jupyter-widgets/controls",
          "model_name": "HTMLModel",
          "model_module_version": "1.5.0",
          "state": {
            "_dom_classes": [],
            "_model_module": "@jupyter-widgets/controls",
            "_model_module_version": "1.5.0",
            "_model_name": "HTMLModel",
            "_view_count": null,
            "_view_module": "@jupyter-widgets/controls",
            "_view_module_version": "1.5.0",
            "_view_name": "HTMLView",
            "description": "",
            "description_tooltip": null,
            "layout": "IPY_MODEL_76fa4ad0caee4ba28ee65cb24e828a36",
            "placeholder": "​",
            "style": "IPY_MODEL_466dda5b5c234e578954c53630286483",
            "value": " 1.76k/1.76k [00:00&lt;00:00, 43.3kB/s]"
          }
        },
        "f2283a4d379b4bb8b2b542eae48e88fe": {
          "model_module": "@jupyter-widgets/base",
          "model_name": "LayoutModel",
          "model_module_version": "1.2.0",
          "state": {
            "_model_module": "@jupyter-widgets/base",
            "_model_module_version": "1.2.0",
            "_model_name": "LayoutModel",
            "_view_count": null,
            "_view_module": "@jupyter-widgets/base",
            "_view_module_version": "1.2.0",
            "_view_name": "LayoutView",
            "align_content": null,
            "align_items": null,
            "align_self": null,
            "border": null,
            "bottom": null,
            "display": null,
            "flex": null,
            "flex_flow": null,
            "grid_area": null,
            "grid_auto_columns": null,
            "grid_auto_flow": null,
            "grid_auto_rows": null,
            "grid_column": null,
            "grid_gap": null,
            "grid_row": null,
            "grid_template_areas": null,
            "grid_template_columns": null,
            "grid_template_rows": null,
            "height": null,
            "justify_content": null,
            "justify_items": null,
            "left": null,
            "margin": null,
            "max_height": null,
            "max_width": null,
            "min_height": null,
            "min_width": null,
            "object_fit": null,
            "object_position": null,
            "order": null,
            "overflow": null,
            "overflow_x": null,
            "overflow_y": null,
            "padding": null,
            "right": null,
            "top": null,
            "visibility": null,
            "width": null
          }
        },
        "42a964d00e69458dbcc01a92ee6e1787": {
          "model_module": "@jupyter-widgets/base",
          "model_name": "LayoutModel",
          "model_module_version": "1.2.0",
          "state": {
            "_model_module": "@jupyter-widgets/base",
            "_model_module_version": "1.2.0",
            "_model_name": "LayoutModel",
            "_view_count": null,
            "_view_module": "@jupyter-widgets/base",
            "_view_module_version": "1.2.0",
            "_view_name": "LayoutView",
            "align_content": null,
            "align_items": null,
            "align_self": null,
            "border": null,
            "bottom": null,
            "display": null,
            "flex": null,
            "flex_flow": null,
            "grid_area": null,
            "grid_auto_columns": null,
            "grid_auto_flow": null,
            "grid_auto_rows": null,
            "grid_column": null,
            "grid_gap": null,
            "grid_row": null,
            "grid_template_areas": null,
            "grid_template_columns": null,
            "grid_template_rows": null,
            "height": null,
            "justify_content": null,
            "justify_items": null,
            "left": null,
            "margin": null,
            "max_height": null,
            "max_width": null,
            "min_height": null,
            "min_width": null,
            "object_fit": null,
            "object_position": null,
            "order": null,
            "overflow": null,
            "overflow_x": null,
            "overflow_y": null,
            "padding": null,
            "right": null,
            "top": null,
            "visibility": null,
            "width": null
          }
        },
        "33f31655f7d8421faa3bb5fb8afba431": {
          "model_module": "@jupyter-widgets/controls",
          "model_name": "DescriptionStyleModel",
          "model_module_version": "1.5.0",
          "state": {
            "_model_module": "@jupyter-widgets/controls",
            "_model_module_version": "1.5.0",
            "_model_name": "DescriptionStyleModel",
            "_view_count": null,
            "_view_module": "@jupyter-widgets/base",
            "_view_module_version": "1.2.0",
            "_view_name": "StyleView",
            "description_width": ""
          }
        },
        "35c4c93348f349be90cd6dc95a6874b1": {
          "model_module": "@jupyter-widgets/base",
          "model_name": "LayoutModel",
          "model_module_version": "1.2.0",
          "state": {
            "_model_module": "@jupyter-widgets/base",
            "_model_module_version": "1.2.0",
            "_model_name": "LayoutModel",
            "_view_count": null,
            "_view_module": "@jupyter-widgets/base",
            "_view_module_version": "1.2.0",
            "_view_name": "LayoutView",
            "align_content": null,
            "align_items": null,
            "align_self": null,
            "border": null,
            "bottom": null,
            "display": null,
            "flex": null,
            "flex_flow": null,
            "grid_area": null,
            "grid_auto_columns": null,
            "grid_auto_flow": null,
            "grid_auto_rows": null,
            "grid_column": null,
            "grid_gap": null,
            "grid_row": null,
            "grid_template_areas": null,
            "grid_template_columns": null,
            "grid_template_rows": null,
            "height": null,
            "justify_content": null,
            "justify_items": null,
            "left": null,
            "margin": null,
            "max_height": null,
            "max_width": null,
            "min_height": null,
            "min_width": null,
            "object_fit": null,
            "object_position": null,
            "order": null,
            "overflow": null,
            "overflow_x": null,
            "overflow_y": null,
            "padding": null,
            "right": null,
            "top": null,
            "visibility": null,
            "width": null
          }
        },
        "6183d0ea2e3e48d79e6a18987603ba07": {
          "model_module": "@jupyter-widgets/controls",
          "model_name": "ProgressStyleModel",
          "model_module_version": "1.5.0",
          "state": {
            "_model_module": "@jupyter-widgets/controls",
            "_model_module_version": "1.5.0",
            "_model_name": "ProgressStyleModel",
            "_view_count": null,
            "_view_module": "@jupyter-widgets/base",
            "_view_module_version": "1.2.0",
            "_view_name": "StyleView",
            "bar_color": null,
            "description_width": ""
          }
        },
        "76fa4ad0caee4ba28ee65cb24e828a36": {
          "model_module": "@jupyter-widgets/base",
          "model_name": "LayoutModel",
          "model_module_version": "1.2.0",
          "state": {
            "_model_module": "@jupyter-widgets/base",
            "_model_module_version": "1.2.0",
            "_model_name": "LayoutModel",
            "_view_count": null,
            "_view_module": "@jupyter-widgets/base",
            "_view_module_version": "1.2.0",
            "_view_name": "LayoutView",
            "align_content": null,
            "align_items": null,
            "align_self": null,
            "border": null,
            "bottom": null,
            "display": null,
            "flex": null,
            "flex_flow": null,
            "grid_area": null,
            "grid_auto_columns": null,
            "grid_auto_flow": null,
            "grid_auto_rows": null,
            "grid_column": null,
            "grid_gap": null,
            "grid_row": null,
            "grid_template_areas": null,
            "grid_template_columns": null,
            "grid_template_rows": null,
            "height": null,
            "justify_content": null,
            "justify_items": null,
            "left": null,
            "margin": null,
            "max_height": null,
            "max_width": null,
            "min_height": null,
            "min_width": null,
            "object_fit": null,
            "object_position": null,
            "order": null,
            "overflow": null,
            "overflow_x": null,
            "overflow_y": null,
            "padding": null,
            "right": null,
            "top": null,
            "visibility": null,
            "width": null
          }
        },
        "466dda5b5c234e578954c53630286483": {
          "model_module": "@jupyter-widgets/controls",
          "model_name": "DescriptionStyleModel",
          "model_module_version": "1.5.0",
          "state": {
            "_model_module": "@jupyter-widgets/controls",
            "_model_module_version": "1.5.0",
            "_model_name": "DescriptionStyleModel",
            "_view_count": null,
            "_view_module": "@jupyter-widgets/base",
            "_view_module_version": "1.2.0",
            "_view_name": "StyleView",
            "description_width": ""
          }
        },
        "b03ec8600d3543deade29ef9e2d9bbb0": {
          "model_module": "@jupyter-widgets/controls",
          "model_name": "HBoxModel",
          "model_module_version": "1.5.0",
          "state": {
            "_dom_classes": [],
            "_model_module": "@jupyter-widgets/controls",
            "_model_module_version": "1.5.0",
            "_model_name": "HBoxModel",
            "_view_count": null,
            "_view_module": "@jupyter-widgets/controls",
            "_view_module_version": "1.5.0",
            "_view_name": "HBoxView",
            "box_style": "",
            "children": [
              "IPY_MODEL_b0de1b1f0ee140f58364067bdbb7f1f7",
              "IPY_MODEL_4221ad80cd6c4b83b0c8c2e18c0557fd",
              "IPY_MODEL_1b8c0df6b1704868b955829a6a4eae44"
            ],
            "layout": "IPY_MODEL_5e6b22e424554f9589f10f41ea4d5681"
          }
        },
        "b0de1b1f0ee140f58364067bdbb7f1f7": {
          "model_module": "@jupyter-widgets/controls",
          "model_name": "HTMLModel",
          "model_module_version": "1.5.0",
          "state": {
            "_dom_classes": [],
            "_model_module": "@jupyter-widgets/controls",
            "_model_module_version": "1.5.0",
            "_model_name": "HTMLModel",
            "_view_count": null,
            "_view_module": "@jupyter-widgets/controls",
            "_view_module_version": "1.5.0",
            "_view_name": "HTMLView",
            "description": "",
            "description_tooltip": null,
            "layout": "IPY_MODEL_4a4ec88e86894de38664ba5741084d5c",
            "placeholder": "​",
            "style": "IPY_MODEL_fe256d1dcaea4a13bb8e9d592ca36d5a",
            "value": "Downloading: 100%"
          }
        },
        "4221ad80cd6c4b83b0c8c2e18c0557fd": {
          "model_module": "@jupyter-widgets/controls",
          "model_name": "FloatProgressModel",
          "model_module_version": "1.5.0",
          "state": {
            "_dom_classes": [],
            "_model_module": "@jupyter-widgets/controls",
            "_model_module_version": "1.5.0",
            "_model_name": "FloatProgressModel",
            "_view_count": null,
            "_view_module": "@jupyter-widgets/controls",
            "_view_module_version": "1.5.0",
            "_view_name": "ProgressView",
            "bar_style": "success",
            "description": "",
            "description_tooltip": null,
            "layout": "IPY_MODEL_b689f2870c084ed2968ed83ee68f910c",
            "max": 1222317369,
            "min": 0,
            "orientation": "horizontal",
            "style": "IPY_MODEL_768c647b7f374fcaaeb27bd229b503b7",
            "value": 1222317369
          }
        },
        "1b8c0df6b1704868b955829a6a4eae44": {
          "model_module": "@jupyter-widgets/controls",
          "model_name": "HTMLModel",
          "model_module_version": "1.5.0",
          "state": {
            "_dom_classes": [],
            "_model_module": "@jupyter-widgets/controls",
            "_model_module_version": "1.5.0",
            "_model_name": "HTMLModel",
            "_view_count": null,
            "_view_module": "@jupyter-widgets/controls",
            "_view_module_version": "1.5.0",
            "_view_name": "HTMLView",
            "description": "",
            "description_tooltip": null,
            "layout": "IPY_MODEL_d5ce25a071ec4218820f156db4006837",
            "placeholder": "​",
            "style": "IPY_MODEL_a92ccd7dd97744a78c959b487c9f891b",
            "value": " 1.14G/1.14G [00:31&lt;00:00, 41.0MB/s]"
          }
        },
        "5e6b22e424554f9589f10f41ea4d5681": {
          "model_module": "@jupyter-widgets/base",
          "model_name": "LayoutModel",
          "model_module_version": "1.2.0",
          "state": {
            "_model_module": "@jupyter-widgets/base",
            "_model_module_version": "1.2.0",
            "_model_name": "LayoutModel",
            "_view_count": null,
            "_view_module": "@jupyter-widgets/base",
            "_view_module_version": "1.2.0",
            "_view_name": "LayoutView",
            "align_content": null,
            "align_items": null,
            "align_self": null,
            "border": null,
            "bottom": null,
            "display": null,
            "flex": null,
            "flex_flow": null,
            "grid_area": null,
            "grid_auto_columns": null,
            "grid_auto_flow": null,
            "grid_auto_rows": null,
            "grid_column": null,
            "grid_gap": null,
            "grid_row": null,
            "grid_template_areas": null,
            "grid_template_columns": null,
            "grid_template_rows": null,
            "height": null,
            "justify_content": null,
            "justify_items": null,
            "left": null,
            "margin": null,
            "max_height": null,
            "max_width": null,
            "min_height": null,
            "min_width": null,
            "object_fit": null,
            "object_position": null,
            "order": null,
            "overflow": null,
            "overflow_x": null,
            "overflow_y": null,
            "padding": null,
            "right": null,
            "top": null,
            "visibility": null,
            "width": null
          }
        },
        "4a4ec88e86894de38664ba5741084d5c": {
          "model_module": "@jupyter-widgets/base",
          "model_name": "LayoutModel",
          "model_module_version": "1.2.0",
          "state": {
            "_model_module": "@jupyter-widgets/base",
            "_model_module_version": "1.2.0",
            "_model_name": "LayoutModel",
            "_view_count": null,
            "_view_module": "@jupyter-widgets/base",
            "_view_module_version": "1.2.0",
            "_view_name": "LayoutView",
            "align_content": null,
            "align_items": null,
            "align_self": null,
            "border": null,
            "bottom": null,
            "display": null,
            "flex": null,
            "flex_flow": null,
            "grid_area": null,
            "grid_auto_columns": null,
            "grid_auto_flow": null,
            "grid_auto_rows": null,
            "grid_column": null,
            "grid_gap": null,
            "grid_row": null,
            "grid_template_areas": null,
            "grid_template_columns": null,
            "grid_template_rows": null,
            "height": null,
            "justify_content": null,
            "justify_items": null,
            "left": null,
            "margin": null,
            "max_height": null,
            "max_width": null,
            "min_height": null,
            "min_width": null,
            "object_fit": null,
            "object_position": null,
            "order": null,
            "overflow": null,
            "overflow_x": null,
            "overflow_y": null,
            "padding": null,
            "right": null,
            "top": null,
            "visibility": null,
            "width": null
          }
        },
        "fe256d1dcaea4a13bb8e9d592ca36d5a": {
          "model_module": "@jupyter-widgets/controls",
          "model_name": "DescriptionStyleModel",
          "model_module_version": "1.5.0",
          "state": {
            "_model_module": "@jupyter-widgets/controls",
            "_model_module_version": "1.5.0",
            "_model_name": "DescriptionStyleModel",
            "_view_count": null,
            "_view_module": "@jupyter-widgets/base",
            "_view_module_version": "1.2.0",
            "_view_name": "StyleView",
            "description_width": ""
          }
        },
        "b689f2870c084ed2968ed83ee68f910c": {
          "model_module": "@jupyter-widgets/base",
          "model_name": "LayoutModel",
          "model_module_version": "1.2.0",
          "state": {
            "_model_module": "@jupyter-widgets/base",
            "_model_module_version": "1.2.0",
            "_model_name": "LayoutModel",
            "_view_count": null,
            "_view_module": "@jupyter-widgets/base",
            "_view_module_version": "1.2.0",
            "_view_name": "LayoutView",
            "align_content": null,
            "align_items": null,
            "align_self": null,
            "border": null,
            "bottom": null,
            "display": null,
            "flex": null,
            "flex_flow": null,
            "grid_area": null,
            "grid_auto_columns": null,
            "grid_auto_flow": null,
            "grid_auto_rows": null,
            "grid_column": null,
            "grid_gap": null,
            "grid_row": null,
            "grid_template_areas": null,
            "grid_template_columns": null,
            "grid_template_rows": null,
            "height": null,
            "justify_content": null,
            "justify_items": null,
            "left": null,
            "margin": null,
            "max_height": null,
            "max_width": null,
            "min_height": null,
            "min_width": null,
            "object_fit": null,
            "object_position": null,
            "order": null,
            "overflow": null,
            "overflow_x": null,
            "overflow_y": null,
            "padding": null,
            "right": null,
            "top": null,
            "visibility": null,
            "width": null
          }
        },
        "768c647b7f374fcaaeb27bd229b503b7": {
          "model_module": "@jupyter-widgets/controls",
          "model_name": "ProgressStyleModel",
          "model_module_version": "1.5.0",
          "state": {
            "_model_module": "@jupyter-widgets/controls",
            "_model_module_version": "1.5.0",
            "_model_name": "ProgressStyleModel",
            "_view_count": null,
            "_view_module": "@jupyter-widgets/base",
            "_view_module_version": "1.2.0",
            "_view_name": "StyleView",
            "bar_color": null,
            "description_width": ""
          }
        },
        "d5ce25a071ec4218820f156db4006837": {
          "model_module": "@jupyter-widgets/base",
          "model_name": "LayoutModel",
          "model_module_version": "1.2.0",
          "state": {
            "_model_module": "@jupyter-widgets/base",
            "_model_module_version": "1.2.0",
            "_model_name": "LayoutModel",
            "_view_count": null,
            "_view_module": "@jupyter-widgets/base",
            "_view_module_version": "1.2.0",
            "_view_name": "LayoutView",
            "align_content": null,
            "align_items": null,
            "align_self": null,
            "border": null,
            "bottom": null,
            "display": null,
            "flex": null,
            "flex_flow": null,
            "grid_area": null,
            "grid_auto_columns": null,
            "grid_auto_flow": null,
            "grid_auto_rows": null,
            "grid_column": null,
            "grid_gap": null,
            "grid_row": null,
            "grid_template_areas": null,
            "grid_template_columns": null,
            "grid_template_rows": null,
            "height": null,
            "justify_content": null,
            "justify_items": null,
            "left": null,
            "margin": null,
            "max_height": null,
            "max_width": null,
            "min_height": null,
            "min_width": null,
            "object_fit": null,
            "object_position": null,
            "order": null,
            "overflow": null,
            "overflow_x": null,
            "overflow_y": null,
            "padding": null,
            "right": null,
            "top": null,
            "visibility": null,
            "width": null
          }
        },
        "a92ccd7dd97744a78c959b487c9f891b": {
          "model_module": "@jupyter-widgets/controls",
          "model_name": "DescriptionStyleModel",
          "model_module_version": "1.5.0",
          "state": {
            "_model_module": "@jupyter-widgets/controls",
            "_model_module_version": "1.5.0",
            "_model_name": "DescriptionStyleModel",
            "_view_count": null,
            "_view_module": "@jupyter-widgets/base",
            "_view_module_version": "1.2.0",
            "_view_name": "StyleView",
            "description_width": ""
          }
        },
        "491cfe0bbb6446beb2e822b696fda66d": {
          "model_module": "@jupyter-widgets/controls",
          "model_name": "HBoxModel",
          "model_module_version": "1.5.0",
          "state": {
            "_dom_classes": [],
            "_model_module": "@jupyter-widgets/controls",
            "_model_module_version": "1.5.0",
            "_model_name": "HBoxModel",
            "_view_count": null,
            "_view_module": "@jupyter-widgets/controls",
            "_view_module_version": "1.5.0",
            "_view_name": "HBoxView",
            "box_style": "",
            "children": [
              "IPY_MODEL_d5d1d79c2c1645eab4f7a85cca1f6c78",
              "IPY_MODEL_6a35681e54a54b2389e7e5c2dd42b073",
              "IPY_MODEL_9fb48c3f5ddd4f409cf7f9122371e31a"
            ],
            "layout": "IPY_MODEL_ea66bc34dfdf4a179de285baf9904ba6"
          }
        },
        "d5d1d79c2c1645eab4f7a85cca1f6c78": {
          "model_module": "@jupyter-widgets/controls",
          "model_name": "HTMLModel",
          "model_module_version": "1.5.0",
          "state": {
            "_dom_classes": [],
            "_model_module": "@jupyter-widgets/controls",
            "_model_module_version": "1.5.0",
            "_model_name": "HTMLModel",
            "_view_count": null,
            "_view_module": "@jupyter-widgets/controls",
            "_view_module_version": "1.5.0",
            "_view_name": "HTMLView",
            "description": "",
            "description_tooltip": null,
            "layout": "IPY_MODEL_448dbc4f3c2348de88660a1238c2e508",
            "placeholder": "​",
            "style": "IPY_MODEL_8325d379b56e4fd6b844bc11da6da34e",
            "value": "Downloading: 100%"
          }
        },
        "6a35681e54a54b2389e7e5c2dd42b073": {
          "model_module": "@jupyter-widgets/controls",
          "model_name": "FloatProgressModel",
          "model_module_version": "1.5.0",
          "state": {
            "_dom_classes": [],
            "_model_module": "@jupyter-widgets/controls",
            "_model_module_version": "1.5.0",
            "_model_name": "FloatProgressModel",
            "_view_count": null,
            "_view_module": "@jupyter-widgets/controls",
            "_view_module_version": "1.5.0",
            "_view_name": "ProgressView",
            "bar_style": "success",
            "description": "",
            "description_tooltip": null,
            "layout": "IPY_MODEL_13a8714810b845aea90ce6440a6c3e7c",
            "max": 26,
            "min": 0,
            "orientation": "horizontal",
            "style": "IPY_MODEL_4d68a0959ad2403183b2fcac295c5017",
            "value": 26
          }
        },
        "9fb48c3f5ddd4f409cf7f9122371e31a": {
          "model_module": "@jupyter-widgets/controls",
          "model_name": "HTMLModel",
          "model_module_version": "1.5.0",
          "state": {
            "_dom_classes": [],
            "_model_module": "@jupyter-widgets/controls",
            "_model_module_version": "1.5.0",
            "_model_name": "HTMLModel",
            "_view_count": null,
            "_view_module": "@jupyter-widgets/controls",
            "_view_module_version": "1.5.0",
            "_view_name": "HTMLView",
            "description": "",
            "description_tooltip": null,
            "layout": "IPY_MODEL_47a0ddd7b71c4f22bc830bf71435eee9",
            "placeholder": "​",
            "style": "IPY_MODEL_7d642b72f53b4a19bea1f42f6f1def15",
            "value": " 26.0/26.0 [00:00&lt;00:00, 732B/s]"
          }
        },
        "ea66bc34dfdf4a179de285baf9904ba6": {
          "model_module": "@jupyter-widgets/base",
          "model_name": "LayoutModel",
          "model_module_version": "1.2.0",
          "state": {
            "_model_module": "@jupyter-widgets/base",
            "_model_module_version": "1.2.0",
            "_model_name": "LayoutModel",
            "_view_count": null,
            "_view_module": "@jupyter-widgets/base",
            "_view_module_version": "1.2.0",
            "_view_name": "LayoutView",
            "align_content": null,
            "align_items": null,
            "align_self": null,
            "border": null,
            "bottom": null,
            "display": null,
            "flex": null,
            "flex_flow": null,
            "grid_area": null,
            "grid_auto_columns": null,
            "grid_auto_flow": null,
            "grid_auto_rows": null,
            "grid_column": null,
            "grid_gap": null,
            "grid_row": null,
            "grid_template_areas": null,
            "grid_template_columns": null,
            "grid_template_rows": null,
            "height": null,
            "justify_content": null,
            "justify_items": null,
            "left": null,
            "margin": null,
            "max_height": null,
            "max_width": null,
            "min_height": null,
            "min_width": null,
            "object_fit": null,
            "object_position": null,
            "order": null,
            "overflow": null,
            "overflow_x": null,
            "overflow_y": null,
            "padding": null,
            "right": null,
            "top": null,
            "visibility": null,
            "width": null
          }
        },
        "448dbc4f3c2348de88660a1238c2e508": {
          "model_module": "@jupyter-widgets/base",
          "model_name": "LayoutModel",
          "model_module_version": "1.2.0",
          "state": {
            "_model_module": "@jupyter-widgets/base",
            "_model_module_version": "1.2.0",
            "_model_name": "LayoutModel",
            "_view_count": null,
            "_view_module": "@jupyter-widgets/base",
            "_view_module_version": "1.2.0",
            "_view_name": "LayoutView",
            "align_content": null,
            "align_items": null,
            "align_self": null,
            "border": null,
            "bottom": null,
            "display": null,
            "flex": null,
            "flex_flow": null,
            "grid_area": null,
            "grid_auto_columns": null,
            "grid_auto_flow": null,
            "grid_auto_rows": null,
            "grid_column": null,
            "grid_gap": null,
            "grid_row": null,
            "grid_template_areas": null,
            "grid_template_columns": null,
            "grid_template_rows": null,
            "height": null,
            "justify_content": null,
            "justify_items": null,
            "left": null,
            "margin": null,
            "max_height": null,
            "max_width": null,
            "min_height": null,
            "min_width": null,
            "object_fit": null,
            "object_position": null,
            "order": null,
            "overflow": null,
            "overflow_x": null,
            "overflow_y": null,
            "padding": null,
            "right": null,
            "top": null,
            "visibility": null,
            "width": null
          }
        },
        "8325d379b56e4fd6b844bc11da6da34e": {
          "model_module": "@jupyter-widgets/controls",
          "model_name": "DescriptionStyleModel",
          "model_module_version": "1.5.0",
          "state": {
            "_model_module": "@jupyter-widgets/controls",
            "_model_module_version": "1.5.0",
            "_model_name": "DescriptionStyleModel",
            "_view_count": null,
            "_view_module": "@jupyter-widgets/base",
            "_view_module_version": "1.2.0",
            "_view_name": "StyleView",
            "description_width": ""
          }
        },
        "13a8714810b845aea90ce6440a6c3e7c": {
          "model_module": "@jupyter-widgets/base",
          "model_name": "LayoutModel",
          "model_module_version": "1.2.0",
          "state": {
            "_model_module": "@jupyter-widgets/base",
            "_model_module_version": "1.2.0",
            "_model_name": "LayoutModel",
            "_view_count": null,
            "_view_module": "@jupyter-widgets/base",
            "_view_module_version": "1.2.0",
            "_view_name": "LayoutView",
            "align_content": null,
            "align_items": null,
            "align_self": null,
            "border": null,
            "bottom": null,
            "display": null,
            "flex": null,
            "flex_flow": null,
            "grid_area": null,
            "grid_auto_columns": null,
            "grid_auto_flow": null,
            "grid_auto_rows": null,
            "grid_column": null,
            "grid_gap": null,
            "grid_row": null,
            "grid_template_areas": null,
            "grid_template_columns": null,
            "grid_template_rows": null,
            "height": null,
            "justify_content": null,
            "justify_items": null,
            "left": null,
            "margin": null,
            "max_height": null,
            "max_width": null,
            "min_height": null,
            "min_width": null,
            "object_fit": null,
            "object_position": null,
            "order": null,
            "overflow": null,
            "overflow_x": null,
            "overflow_y": null,
            "padding": null,
            "right": null,
            "top": null,
            "visibility": null,
            "width": null
          }
        },
        "4d68a0959ad2403183b2fcac295c5017": {
          "model_module": "@jupyter-widgets/controls",
          "model_name": "ProgressStyleModel",
          "model_module_version": "1.5.0",
          "state": {
            "_model_module": "@jupyter-widgets/controls",
            "_model_module_version": "1.5.0",
            "_model_name": "ProgressStyleModel",
            "_view_count": null,
            "_view_module": "@jupyter-widgets/base",
            "_view_module_version": "1.2.0",
            "_view_name": "StyleView",
            "bar_color": null,
            "description_width": ""
          }
        },
        "47a0ddd7b71c4f22bc830bf71435eee9": {
          "model_module": "@jupyter-widgets/base",
          "model_name": "LayoutModel",
          "model_module_version": "1.2.0",
          "state": {
            "_model_module": "@jupyter-widgets/base",
            "_model_module_version": "1.2.0",
            "_model_name": "LayoutModel",
            "_view_count": null,
            "_view_module": "@jupyter-widgets/base",
            "_view_module_version": "1.2.0",
            "_view_name": "LayoutView",
            "align_content": null,
            "align_items": null,
            "align_self": null,
            "border": null,
            "bottom": null,
            "display": null,
            "flex": null,
            "flex_flow": null,
            "grid_area": null,
            "grid_auto_columns": null,
            "grid_auto_flow": null,
            "grid_auto_rows": null,
            "grid_column": null,
            "grid_gap": null,
            "grid_row": null,
            "grid_template_areas": null,
            "grid_template_columns": null,
            "grid_template_rows": null,
            "height": null,
            "justify_content": null,
            "justify_items": null,
            "left": null,
            "margin": null,
            "max_height": null,
            "max_width": null,
            "min_height": null,
            "min_width": null,
            "object_fit": null,
            "object_position": null,
            "order": null,
            "overflow": null,
            "overflow_x": null,
            "overflow_y": null,
            "padding": null,
            "right": null,
            "top": null,
            "visibility": null,
            "width": null
          }
        },
        "7d642b72f53b4a19bea1f42f6f1def15": {
          "model_module": "@jupyter-widgets/controls",
          "model_name": "DescriptionStyleModel",
          "model_module_version": "1.5.0",
          "state": {
            "_model_module": "@jupyter-widgets/controls",
            "_model_module_version": "1.5.0",
            "_model_name": "DescriptionStyleModel",
            "_view_count": null,
            "_view_module": "@jupyter-widgets/base",
            "_view_module_version": "1.2.0",
            "_view_name": "StyleView",
            "description_width": ""
          }
        },
        "51133166677d41f7a6820e2ec3e0abf3": {
          "model_module": "@jupyter-widgets/controls",
          "model_name": "HBoxModel",
          "model_module_version": "1.5.0",
          "state": {
            "_dom_classes": [],
            "_model_module": "@jupyter-widgets/controls",
            "_model_module_version": "1.5.0",
            "_model_name": "HBoxModel",
            "_view_count": null,
            "_view_module": "@jupyter-widgets/controls",
            "_view_module_version": "1.5.0",
            "_view_name": "HBoxView",
            "box_style": "",
            "children": [
              "IPY_MODEL_50ae8bad781947ebba265bbe753f659f",
              "IPY_MODEL_080ff7ad69f84834928d104f5f9fdaff",
              "IPY_MODEL_1d7311a227e9442082b6c214dbe7cc8d"
            ],
            "layout": "IPY_MODEL_1b117db36bca42c99a4289bc347808fb"
          }
        },
        "50ae8bad781947ebba265bbe753f659f": {
          "model_module": "@jupyter-widgets/controls",
          "model_name": "HTMLModel",
          "model_module_version": "1.5.0",
          "state": {
            "_dom_classes": [],
            "_model_module": "@jupyter-widgets/controls",
            "_model_module_version": "1.5.0",
            "_model_name": "HTMLModel",
            "_view_count": null,
            "_view_module": "@jupyter-widgets/controls",
            "_view_module_version": "1.5.0",
            "_view_name": "HTMLView",
            "description": "",
            "description_tooltip": null,
            "layout": "IPY_MODEL_4ca1bd45ac90429d865516bd7ec0e88b",
            "placeholder": "​",
            "style": "IPY_MODEL_0a2cdf80ec6a41b4bdba5d633bee976e",
            "value": "Downloading: 100%"
          }
        },
        "080ff7ad69f84834928d104f5f9fdaff": {
          "model_module": "@jupyter-widgets/controls",
          "model_name": "FloatProgressModel",
          "model_module_version": "1.5.0",
          "state": {
            "_dom_classes": [],
            "_model_module": "@jupyter-widgets/controls",
            "_model_module_version": "1.5.0",
            "_model_name": "FloatProgressModel",
            "_view_count": null,
            "_view_module": "@jupyter-widgets/controls",
            "_view_module_version": "1.5.0",
            "_view_name": "ProgressView",
            "bar_style": "success",
            "description": "",
            "description_tooltip": null,
            "layout": "IPY_MODEL_81d01ecea4b7424f96eaf4bb1d1f4a6a",
            "max": 898822,
            "min": 0,
            "orientation": "horizontal",
            "style": "IPY_MODEL_1104ace5ba024ca3920733faf5c38b25",
            "value": 898822
          }
        },
        "1d7311a227e9442082b6c214dbe7cc8d": {
          "model_module": "@jupyter-widgets/controls",
          "model_name": "HTMLModel",
          "model_module_version": "1.5.0",
          "state": {
            "_dom_classes": [],
            "_model_module": "@jupyter-widgets/controls",
            "_model_module_version": "1.5.0",
            "_model_name": "HTMLModel",
            "_view_count": null,
            "_view_module": "@jupyter-widgets/controls",
            "_view_module_version": "1.5.0",
            "_view_name": "HTMLView",
            "description": "",
            "description_tooltip": null,
            "layout": "IPY_MODEL_38c3c314eb2d46e2a9ac995c3854a62e",
            "placeholder": "​",
            "style": "IPY_MODEL_b14977a0df9044328f03ff42fac3d886",
            "value": " 878k/878k [00:00&lt;00:00, 816kB/s]"
          }
        },
        "1b117db36bca42c99a4289bc347808fb": {
          "model_module": "@jupyter-widgets/base",
          "model_name": "LayoutModel",
          "model_module_version": "1.2.0",
          "state": {
            "_model_module": "@jupyter-widgets/base",
            "_model_module_version": "1.2.0",
            "_model_name": "LayoutModel",
            "_view_count": null,
            "_view_module": "@jupyter-widgets/base",
            "_view_module_version": "1.2.0",
            "_view_name": "LayoutView",
            "align_content": null,
            "align_items": null,
            "align_self": null,
            "border": null,
            "bottom": null,
            "display": null,
            "flex": null,
            "flex_flow": null,
            "grid_area": null,
            "grid_auto_columns": null,
            "grid_auto_flow": null,
            "grid_auto_rows": null,
            "grid_column": null,
            "grid_gap": null,
            "grid_row": null,
            "grid_template_areas": null,
            "grid_template_columns": null,
            "grid_template_rows": null,
            "height": null,
            "justify_content": null,
            "justify_items": null,
            "left": null,
            "margin": null,
            "max_height": null,
            "max_width": null,
            "min_height": null,
            "min_width": null,
            "object_fit": null,
            "object_position": null,
            "order": null,
            "overflow": null,
            "overflow_x": null,
            "overflow_y": null,
            "padding": null,
            "right": null,
            "top": null,
            "visibility": null,
            "width": null
          }
        },
        "4ca1bd45ac90429d865516bd7ec0e88b": {
          "model_module": "@jupyter-widgets/base",
          "model_name": "LayoutModel",
          "model_module_version": "1.2.0",
          "state": {
            "_model_module": "@jupyter-widgets/base",
            "_model_module_version": "1.2.0",
            "_model_name": "LayoutModel",
            "_view_count": null,
            "_view_module": "@jupyter-widgets/base",
            "_view_module_version": "1.2.0",
            "_view_name": "LayoutView",
            "align_content": null,
            "align_items": null,
            "align_self": null,
            "border": null,
            "bottom": null,
            "display": null,
            "flex": null,
            "flex_flow": null,
            "grid_area": null,
            "grid_auto_columns": null,
            "grid_auto_flow": null,
            "grid_auto_rows": null,
            "grid_column": null,
            "grid_gap": null,
            "grid_row": null,
            "grid_template_areas": null,
            "grid_template_columns": null,
            "grid_template_rows": null,
            "height": null,
            "justify_content": null,
            "justify_items": null,
            "left": null,
            "margin": null,
            "max_height": null,
            "max_width": null,
            "min_height": null,
            "min_width": null,
            "object_fit": null,
            "object_position": null,
            "order": null,
            "overflow": null,
            "overflow_x": null,
            "overflow_y": null,
            "padding": null,
            "right": null,
            "top": null,
            "visibility": null,
            "width": null
          }
        },
        "0a2cdf80ec6a41b4bdba5d633bee976e": {
          "model_module": "@jupyter-widgets/controls",
          "model_name": "DescriptionStyleModel",
          "model_module_version": "1.5.0",
          "state": {
            "_model_module": "@jupyter-widgets/controls",
            "_model_module_version": "1.5.0",
            "_model_name": "DescriptionStyleModel",
            "_view_count": null,
            "_view_module": "@jupyter-widgets/base",
            "_view_module_version": "1.2.0",
            "_view_name": "StyleView",
            "description_width": ""
          }
        },
        "81d01ecea4b7424f96eaf4bb1d1f4a6a": {
          "model_module": "@jupyter-widgets/base",
          "model_name": "LayoutModel",
          "model_module_version": "1.2.0",
          "state": {
            "_model_module": "@jupyter-widgets/base",
            "_model_module_version": "1.2.0",
            "_model_name": "LayoutModel",
            "_view_count": null,
            "_view_module": "@jupyter-widgets/base",
            "_view_module_version": "1.2.0",
            "_view_name": "LayoutView",
            "align_content": null,
            "align_items": null,
            "align_self": null,
            "border": null,
            "bottom": null,
            "display": null,
            "flex": null,
            "flex_flow": null,
            "grid_area": null,
            "grid_auto_columns": null,
            "grid_auto_flow": null,
            "grid_auto_rows": null,
            "grid_column": null,
            "grid_gap": null,
            "grid_row": null,
            "grid_template_areas": null,
            "grid_template_columns": null,
            "grid_template_rows": null,
            "height": null,
            "justify_content": null,
            "justify_items": null,
            "left": null,
            "margin": null,
            "max_height": null,
            "max_width": null,
            "min_height": null,
            "min_width": null,
            "object_fit": null,
            "object_position": null,
            "order": null,
            "overflow": null,
            "overflow_x": null,
            "overflow_y": null,
            "padding": null,
            "right": null,
            "top": null,
            "visibility": null,
            "width": null
          }
        },
        "1104ace5ba024ca3920733faf5c38b25": {
          "model_module": "@jupyter-widgets/controls",
          "model_name": "ProgressStyleModel",
          "model_module_version": "1.5.0",
          "state": {
            "_model_module": "@jupyter-widgets/controls",
            "_model_module_version": "1.5.0",
            "_model_name": "ProgressStyleModel",
            "_view_count": null,
            "_view_module": "@jupyter-widgets/base",
            "_view_module_version": "1.2.0",
            "_view_name": "StyleView",
            "bar_color": null,
            "description_width": ""
          }
        },
        "38c3c314eb2d46e2a9ac995c3854a62e": {
          "model_module": "@jupyter-widgets/base",
          "model_name": "LayoutModel",
          "model_module_version": "1.2.0",
          "state": {
            "_model_module": "@jupyter-widgets/base",
            "_model_module_version": "1.2.0",
            "_model_name": "LayoutModel",
            "_view_count": null,
            "_view_module": "@jupyter-widgets/base",
            "_view_module_version": "1.2.0",
            "_view_name": "LayoutView",
            "align_content": null,
            "align_items": null,
            "align_self": null,
            "border": null,
            "bottom": null,
            "display": null,
            "flex": null,
            "flex_flow": null,
            "grid_area": null,
            "grid_auto_columns": null,
            "grid_auto_flow": null,
            "grid_auto_rows": null,
            "grid_column": null,
            "grid_gap": null,
            "grid_row": null,
            "grid_template_areas": null,
            "grid_template_columns": null,
            "grid_template_rows": null,
            "height": null,
            "justify_content": null,
            "justify_items": null,
            "left": null,
            "margin": null,
            "max_height": null,
            "max_width": null,
            "min_height": null,
            "min_width": null,
            "object_fit": null,
            "object_position": null,
            "order": null,
            "overflow": null,
            "overflow_x": null,
            "overflow_y": null,
            "padding": null,
            "right": null,
            "top": null,
            "visibility": null,
            "width": null
          }
        },
        "b14977a0df9044328f03ff42fac3d886": {
          "model_module": "@jupyter-widgets/controls",
          "model_name": "DescriptionStyleModel",
          "model_module_version": "1.5.0",
          "state": {
            "_model_module": "@jupyter-widgets/controls",
            "_model_module_version": "1.5.0",
            "_model_name": "DescriptionStyleModel",
            "_view_count": null,
            "_view_module": "@jupyter-widgets/base",
            "_view_module_version": "1.2.0",
            "_view_name": "StyleView",
            "description_width": ""
          }
        },
        "6f4c9977d7f045cfb633a6ccea9bb434": {
          "model_module": "@jupyter-widgets/controls",
          "model_name": "HBoxModel",
          "model_module_version": "1.5.0",
          "state": {
            "_dom_classes": [],
            "_model_module": "@jupyter-widgets/controls",
            "_model_module_version": "1.5.0",
            "_model_name": "HBoxModel",
            "_view_count": null,
            "_view_module": "@jupyter-widgets/controls",
            "_view_module_version": "1.5.0",
            "_view_name": "HBoxView",
            "box_style": "",
            "children": [
              "IPY_MODEL_b549537347984e119bba9139a4f8f8fa",
              "IPY_MODEL_94a7b564c16147068a1e204825c876f3",
              "IPY_MODEL_894dc9f57fa64d58955a39ea3d6e2673"
            ],
            "layout": "IPY_MODEL_776af8affff44bb7824f538d801bed7b"
          }
        },
        "b549537347984e119bba9139a4f8f8fa": {
          "model_module": "@jupyter-widgets/controls",
          "model_name": "HTMLModel",
          "model_module_version": "1.5.0",
          "state": {
            "_dom_classes": [],
            "_model_module": "@jupyter-widgets/controls",
            "_model_module_version": "1.5.0",
            "_model_name": "HTMLModel",
            "_view_count": null,
            "_view_module": "@jupyter-widgets/controls",
            "_view_module_version": "1.5.0",
            "_view_name": "HTMLView",
            "description": "",
            "description_tooltip": null,
            "layout": "IPY_MODEL_8c3b290b89e64e9dbf029b231d0cd69f",
            "placeholder": "​",
            "style": "IPY_MODEL_c8f8847bc4bc4e5490838130abb359eb",
            "value": "Downloading: 100%"
          }
        },
        "94a7b564c16147068a1e204825c876f3": {
          "model_module": "@jupyter-widgets/controls",
          "model_name": "FloatProgressModel",
          "model_module_version": "1.5.0",
          "state": {
            "_dom_classes": [],
            "_model_module": "@jupyter-widgets/controls",
            "_model_module_version": "1.5.0",
            "_model_name": "FloatProgressModel",
            "_view_count": null,
            "_view_module": "@jupyter-widgets/controls",
            "_view_module_version": "1.5.0",
            "_view_name": "ProgressView",
            "bar_style": "success",
            "description": "",
            "description_tooltip": null,
            "layout": "IPY_MODEL_98b642b0624d4bae89382efd6215b50b",
            "max": 456318,
            "min": 0,
            "orientation": "horizontal",
            "style": "IPY_MODEL_06b71b61324444a8904160d453027191",
            "value": 456318
          }
        },
        "894dc9f57fa64d58955a39ea3d6e2673": {
          "model_module": "@jupyter-widgets/controls",
          "model_name": "HTMLModel",
          "model_module_version": "1.5.0",
          "state": {
            "_dom_classes": [],
            "_model_module": "@jupyter-widgets/controls",
            "_model_module_version": "1.5.0",
            "_model_name": "HTMLModel",
            "_view_count": null,
            "_view_module": "@jupyter-widgets/controls",
            "_view_module_version": "1.5.0",
            "_view_name": "HTMLView",
            "description": "",
            "description_tooltip": null,
            "layout": "IPY_MODEL_74427dc9cc874924a761b0f31b3f7eeb",
            "placeholder": "​",
            "style": "IPY_MODEL_78b27bb14cff4ebebce88545b0757bc2",
            "value": " 446k/446k [00:00&lt;00:00, 684kB/s]"
          }
        },
        "776af8affff44bb7824f538d801bed7b": {
          "model_module": "@jupyter-widgets/base",
          "model_name": "LayoutModel",
          "model_module_version": "1.2.0",
          "state": {
            "_model_module": "@jupyter-widgets/base",
            "_model_module_version": "1.2.0",
            "_model_name": "LayoutModel",
            "_view_count": null,
            "_view_module": "@jupyter-widgets/base",
            "_view_module_version": "1.2.0",
            "_view_name": "LayoutView",
            "align_content": null,
            "align_items": null,
            "align_self": null,
            "border": null,
            "bottom": null,
            "display": null,
            "flex": null,
            "flex_flow": null,
            "grid_area": null,
            "grid_auto_columns": null,
            "grid_auto_flow": null,
            "grid_auto_rows": null,
            "grid_column": null,
            "grid_gap": null,
            "grid_row": null,
            "grid_template_areas": null,
            "grid_template_columns": null,
            "grid_template_rows": null,
            "height": null,
            "justify_content": null,
            "justify_items": null,
            "left": null,
            "margin": null,
            "max_height": null,
            "max_width": null,
            "min_height": null,
            "min_width": null,
            "object_fit": null,
            "object_position": null,
            "order": null,
            "overflow": null,
            "overflow_x": null,
            "overflow_y": null,
            "padding": null,
            "right": null,
            "top": null,
            "visibility": null,
            "width": null
          }
        },
        "8c3b290b89e64e9dbf029b231d0cd69f": {
          "model_module": "@jupyter-widgets/base",
          "model_name": "LayoutModel",
          "model_module_version": "1.2.0",
          "state": {
            "_model_module": "@jupyter-widgets/base",
            "_model_module_version": "1.2.0",
            "_model_name": "LayoutModel",
            "_view_count": null,
            "_view_module": "@jupyter-widgets/base",
            "_view_module_version": "1.2.0",
            "_view_name": "LayoutView",
            "align_content": null,
            "align_items": null,
            "align_self": null,
            "border": null,
            "bottom": null,
            "display": null,
            "flex": null,
            "flex_flow": null,
            "grid_area": null,
            "grid_auto_columns": null,
            "grid_auto_flow": null,
            "grid_auto_rows": null,
            "grid_column": null,
            "grid_gap": null,
            "grid_row": null,
            "grid_template_areas": null,
            "grid_template_columns": null,
            "grid_template_rows": null,
            "height": null,
            "justify_content": null,
            "justify_items": null,
            "left": null,
            "margin": null,
            "max_height": null,
            "max_width": null,
            "min_height": null,
            "min_width": null,
            "object_fit": null,
            "object_position": null,
            "order": null,
            "overflow": null,
            "overflow_x": null,
            "overflow_y": null,
            "padding": null,
            "right": null,
            "top": null,
            "visibility": null,
            "width": null
          }
        },
        "c8f8847bc4bc4e5490838130abb359eb": {
          "model_module": "@jupyter-widgets/controls",
          "model_name": "DescriptionStyleModel",
          "model_module_version": "1.5.0",
          "state": {
            "_model_module": "@jupyter-widgets/controls",
            "_model_module_version": "1.5.0",
            "_model_name": "DescriptionStyleModel",
            "_view_count": null,
            "_view_module": "@jupyter-widgets/base",
            "_view_module_version": "1.2.0",
            "_view_name": "StyleView",
            "description_width": ""
          }
        },
        "98b642b0624d4bae89382efd6215b50b": {
          "model_module": "@jupyter-widgets/base",
          "model_name": "LayoutModel",
          "model_module_version": "1.2.0",
          "state": {
            "_model_module": "@jupyter-widgets/base",
            "_model_module_version": "1.2.0",
            "_model_name": "LayoutModel",
            "_view_count": null,
            "_view_module": "@jupyter-widgets/base",
            "_view_module_version": "1.2.0",
            "_view_name": "LayoutView",
            "align_content": null,
            "align_items": null,
            "align_self": null,
            "border": null,
            "bottom": null,
            "display": null,
            "flex": null,
            "flex_flow": null,
            "grid_area": null,
            "grid_auto_columns": null,
            "grid_auto_flow": null,
            "grid_auto_rows": null,
            "grid_column": null,
            "grid_gap": null,
            "grid_row": null,
            "grid_template_areas": null,
            "grid_template_columns": null,
            "grid_template_rows": null,
            "height": null,
            "justify_content": null,
            "justify_items": null,
            "left": null,
            "margin": null,
            "max_height": null,
            "max_width": null,
            "min_height": null,
            "min_width": null,
            "object_fit": null,
            "object_position": null,
            "order": null,
            "overflow": null,
            "overflow_x": null,
            "overflow_y": null,
            "padding": null,
            "right": null,
            "top": null,
            "visibility": null,
            "width": null
          }
        },
        "06b71b61324444a8904160d453027191": {
          "model_module": "@jupyter-widgets/controls",
          "model_name": "ProgressStyleModel",
          "model_module_version": "1.5.0",
          "state": {
            "_model_module": "@jupyter-widgets/controls",
            "_model_module_version": "1.5.0",
            "_model_name": "ProgressStyleModel",
            "_view_count": null,
            "_view_module": "@jupyter-widgets/base",
            "_view_module_version": "1.2.0",
            "_view_name": "StyleView",
            "bar_color": null,
            "description_width": ""
          }
        },
        "74427dc9cc874924a761b0f31b3f7eeb": {
          "model_module": "@jupyter-widgets/base",
          "model_name": "LayoutModel",
          "model_module_version": "1.2.0",
          "state": {
            "_model_module": "@jupyter-widgets/base",
            "_model_module_version": "1.2.0",
            "_model_name": "LayoutModel",
            "_view_count": null,
            "_view_module": "@jupyter-widgets/base",
            "_view_module_version": "1.2.0",
            "_view_name": "LayoutView",
            "align_content": null,
            "align_items": null,
            "align_self": null,
            "border": null,
            "bottom": null,
            "display": null,
            "flex": null,
            "flex_flow": null,
            "grid_area": null,
            "grid_auto_columns": null,
            "grid_auto_flow": null,
            "grid_auto_rows": null,
            "grid_column": null,
            "grid_gap": null,
            "grid_row": null,
            "grid_template_areas": null,
            "grid_template_columns": null,
            "grid_template_rows": null,
            "height": null,
            "justify_content": null,
            "justify_items": null,
            "left": null,
            "margin": null,
            "max_height": null,
            "max_width": null,
            "min_height": null,
            "min_width": null,
            "object_fit": null,
            "object_position": null,
            "order": null,
            "overflow": null,
            "overflow_x": null,
            "overflow_y": null,
            "padding": null,
            "right": null,
            "top": null,
            "visibility": null,
            "width": null
          }
        },
        "78b27bb14cff4ebebce88545b0757bc2": {
          "model_module": "@jupyter-widgets/controls",
          "model_name": "DescriptionStyleModel",
          "model_module_version": "1.5.0",
          "state": {
            "_model_module": "@jupyter-widgets/controls",
            "_model_module_version": "1.5.0",
            "_model_name": "DescriptionStyleModel",
            "_view_count": null,
            "_view_module": "@jupyter-widgets/base",
            "_view_module_version": "1.2.0",
            "_view_name": "StyleView",
            "description_width": ""
          }
        }
      }
    }
  },
  "cells": [
    {
      "cell_type": "markdown",
      "metadata": {
        "id": "view-in-github",
        "colab_type": "text"
      },
      "source": [
        "<a href=\"https://colab.research.google.com/github/chakiAunkit/AIBlogPostSummarizer/blob/master/AIBlogPostSummarizer.ipynb\" target=\"_parent\"><img src=\"https://colab.research.google.com/assets/colab-badge.svg\" alt=\"Open In Colab\"/></a>"
      ]
    },
    {
      "cell_type": "code",
      "execution_count": 1,
      "metadata": {
        "colab": {
          "base_uri": "https://localhost:8080/",
          "height": 36
        },
        "id": "aouqTWoqBExl",
        "outputId": "8676c920-1ab6-45c7-fc06-b21f6fff6f2b"
      },
      "outputs": [
        {
          "output_type": "execute_result",
          "data": {
            "text/plain": [
              "'/device:GPU:0'"
            ],
            "application/vnd.google.colaboratory.intrinsic+json": {
              "type": "string"
            }
          },
          "metadata": {},
          "execution_count": 1
        }
      ],
      "source": [
        "import tensorflow as tf\n",
        "tf.test.gpu_device_name()"
      ]
    },
    {
      "cell_type": "markdown",
      "source": [
        "## 1. Installing and importing libraries"
      ],
      "metadata": {
        "id": "OsxvoB8zC4jm"
      }
    },
    {
      "cell_type": "code",
      "source": [
        "!pip install transformers"
      ],
      "metadata": {
        "colab": {
          "base_uri": "https://localhost:8080/"
        },
        "id": "SNWpE3wLB76x",
        "outputId": "2c8b63bc-dc4a-4c29-a31d-7d03bed5ee70"
      },
      "execution_count": 3,
      "outputs": [
        {
          "output_type": "stream",
          "name": "stdout",
          "text": [
            "Collecting transformers\n",
            "  Downloading transformers-4.19.2-py3-none-any.whl (4.2 MB)\n",
            "\u001b[K     |████████████████████████████████| 4.2 MB 12.8 MB/s \n",
            "\u001b[?25hRequirement already satisfied: numpy>=1.17 in /usr/local/lib/python3.7/dist-packages (from transformers) (1.21.6)\n",
            "Collecting huggingface-hub<1.0,>=0.1.0\n",
            "  Downloading huggingface_hub-0.6.0-py3-none-any.whl (84 kB)\n",
            "\u001b[K     |████████████████████████████████| 84 kB 3.0 MB/s \n",
            "\u001b[?25hRequirement already satisfied: tqdm>=4.27 in /usr/local/lib/python3.7/dist-packages (from transformers) (4.64.0)\n",
            "Requirement already satisfied: importlib-metadata in /usr/local/lib/python3.7/dist-packages (from transformers) (4.11.3)\n",
            "Requirement already satisfied: packaging>=20.0 in /usr/local/lib/python3.7/dist-packages (from transformers) (21.3)\n",
            "Requirement already satisfied: requests in /usr/local/lib/python3.7/dist-packages (from transformers) (2.23.0)\n",
            "Collecting tokenizers!=0.11.3,<0.13,>=0.11.1\n",
            "  Downloading tokenizers-0.12.1-cp37-cp37m-manylinux_2_12_x86_64.manylinux2010_x86_64.whl (6.6 MB)\n",
            "\u001b[K     |████████████████████████████████| 6.6 MB 38.6 MB/s \n",
            "\u001b[?25hRequirement already satisfied: filelock in /usr/local/lib/python3.7/dist-packages (from transformers) (3.7.0)\n",
            "Collecting pyyaml>=5.1\n",
            "  Downloading PyYAML-6.0-cp37-cp37m-manylinux_2_5_x86_64.manylinux1_x86_64.manylinux_2_12_x86_64.manylinux2010_x86_64.whl (596 kB)\n",
            "\u001b[K     |████████████████████████████████| 596 kB 48.6 MB/s \n",
            "\u001b[?25hRequirement already satisfied: regex!=2019.12.17 in /usr/local/lib/python3.7/dist-packages (from transformers) (2019.12.20)\n",
            "Requirement already satisfied: typing-extensions>=3.7.4.3 in /usr/local/lib/python3.7/dist-packages (from huggingface-hub<1.0,>=0.1.0->transformers) (4.2.0)\n",
            "Requirement already satisfied: pyparsing!=3.0.5,>=2.0.2 in /usr/local/lib/python3.7/dist-packages (from packaging>=20.0->transformers) (3.0.9)\n",
            "Requirement already satisfied: zipp>=0.5 in /usr/local/lib/python3.7/dist-packages (from importlib-metadata->transformers) (3.8.0)\n",
            "Requirement already satisfied: urllib3!=1.25.0,!=1.25.1,<1.26,>=1.21.1 in /usr/local/lib/python3.7/dist-packages (from requests->transformers) (1.24.3)\n",
            "Requirement already satisfied: idna<3,>=2.5 in /usr/local/lib/python3.7/dist-packages (from requests->transformers) (2.10)\n",
            "Requirement already satisfied: chardet<4,>=3.0.2 in /usr/local/lib/python3.7/dist-packages (from requests->transformers) (3.0.4)\n",
            "Requirement already satisfied: certifi>=2017.4.17 in /usr/local/lib/python3.7/dist-packages (from requests->transformers) (2021.10.8)\n",
            "Installing collected packages: pyyaml, tokenizers, huggingface-hub, transformers\n",
            "  Attempting uninstall: pyyaml\n",
            "    Found existing installation: PyYAML 3.13\n",
            "    Uninstalling PyYAML-3.13:\n",
            "      Successfully uninstalled PyYAML-3.13\n",
            "Successfully installed huggingface-hub-0.6.0 pyyaml-6.0 tokenizers-0.12.1 transformers-4.19.2\n"
          ]
        }
      ]
    },
    {
      "cell_type": "code",
      "source": [
        "from transformers import pipeline\n",
        "from bs4 import BeautifulSoup\n",
        "import requests"
      ],
      "metadata": {
        "id": "AeB03gYxCUys"
      },
      "execution_count": 4,
      "outputs": []
    },
    {
      "cell_type": "markdown",
      "source": [
        "## 2. Load Summarization pipeline from HuggingFace"
      ],
      "metadata": {
        "id": "QPZRy_e7C_XV"
      }
    },
    {
      "cell_type": "code",
      "source": [
        "summarizer = pipeline('summarization')"
      ],
      "metadata": {
        "colab": {
          "base_uri": "https://localhost:8080/",
          "height": 194,
          "referenced_widgets": [
            "302d34e4d08d4ee585b73fc15bdd4e09",
            "57e91cd643a844548d5906b788a7aed3",
            "63776acd41f74403a10d4a445252e905",
            "4372b6b57f2740119cf22888283fcd0b",
            "f2283a4d379b4bb8b2b542eae48e88fe",
            "42a964d00e69458dbcc01a92ee6e1787",
            "33f31655f7d8421faa3bb5fb8afba431",
            "35c4c93348f349be90cd6dc95a6874b1",
            "6183d0ea2e3e48d79e6a18987603ba07",
            "76fa4ad0caee4ba28ee65cb24e828a36",
            "466dda5b5c234e578954c53630286483",
            "b03ec8600d3543deade29ef9e2d9bbb0",
            "b0de1b1f0ee140f58364067bdbb7f1f7",
            "4221ad80cd6c4b83b0c8c2e18c0557fd",
            "1b8c0df6b1704868b955829a6a4eae44",
            "5e6b22e424554f9589f10f41ea4d5681",
            "4a4ec88e86894de38664ba5741084d5c",
            "fe256d1dcaea4a13bb8e9d592ca36d5a",
            "b689f2870c084ed2968ed83ee68f910c",
            "768c647b7f374fcaaeb27bd229b503b7",
            "d5ce25a071ec4218820f156db4006837",
            "a92ccd7dd97744a78c959b487c9f891b",
            "491cfe0bbb6446beb2e822b696fda66d",
            "d5d1d79c2c1645eab4f7a85cca1f6c78",
            "6a35681e54a54b2389e7e5c2dd42b073",
            "9fb48c3f5ddd4f409cf7f9122371e31a",
            "ea66bc34dfdf4a179de285baf9904ba6",
            "448dbc4f3c2348de88660a1238c2e508",
            "8325d379b56e4fd6b844bc11da6da34e",
            "13a8714810b845aea90ce6440a6c3e7c",
            "4d68a0959ad2403183b2fcac295c5017",
            "47a0ddd7b71c4f22bc830bf71435eee9",
            "7d642b72f53b4a19bea1f42f6f1def15",
            "51133166677d41f7a6820e2ec3e0abf3",
            "50ae8bad781947ebba265bbe753f659f",
            "080ff7ad69f84834928d104f5f9fdaff",
            "1d7311a227e9442082b6c214dbe7cc8d",
            "1b117db36bca42c99a4289bc347808fb",
            "4ca1bd45ac90429d865516bd7ec0e88b",
            "0a2cdf80ec6a41b4bdba5d633bee976e",
            "81d01ecea4b7424f96eaf4bb1d1f4a6a",
            "1104ace5ba024ca3920733faf5c38b25",
            "38c3c314eb2d46e2a9ac995c3854a62e",
            "b14977a0df9044328f03ff42fac3d886",
            "6f4c9977d7f045cfb633a6ccea9bb434",
            "b549537347984e119bba9139a4f8f8fa",
            "94a7b564c16147068a1e204825c876f3",
            "894dc9f57fa64d58955a39ea3d6e2673",
            "776af8affff44bb7824f538d801bed7b",
            "8c3b290b89e64e9dbf029b231d0cd69f",
            "c8f8847bc4bc4e5490838130abb359eb",
            "98b642b0624d4bae89382efd6215b50b",
            "06b71b61324444a8904160d453027191",
            "74427dc9cc874924a761b0f31b3f7eeb",
            "78b27bb14cff4ebebce88545b0757bc2"
          ]
        },
        "id": "Rv0dh-ScCoRI",
        "outputId": "e6e34a1d-8683-4aa7-8661-0d907c0eb8e1"
      },
      "execution_count": 5,
      "outputs": [
        {
          "output_type": "stream",
          "name": "stderr",
          "text": [
            "No model was supplied, defaulted to sshleifer/distilbart-cnn-12-6 (https://huggingface.co/sshleifer/distilbart-cnn-12-6)\n"
          ]
        },
        {
          "output_type": "display_data",
          "data": {
            "text/plain": [
              "Downloading:   0%|          | 0.00/1.76k [00:00<?, ?B/s]"
            ],
            "application/vnd.jupyter.widget-view+json": {
              "version_major": 2,
              "version_minor": 0,
              "model_id": "302d34e4d08d4ee585b73fc15bdd4e09"
            }
          },
          "metadata": {}
        },
        {
          "output_type": "display_data",
          "data": {
            "text/plain": [
              "Downloading:   0%|          | 0.00/1.14G [00:00<?, ?B/s]"
            ],
            "application/vnd.jupyter.widget-view+json": {
              "version_major": 2,
              "version_minor": 0,
              "model_id": "b03ec8600d3543deade29ef9e2d9bbb0"
            }
          },
          "metadata": {}
        },
        {
          "output_type": "display_data",
          "data": {
            "text/plain": [
              "Downloading:   0%|          | 0.00/26.0 [00:00<?, ?B/s]"
            ],
            "application/vnd.jupyter.widget-view+json": {
              "version_major": 2,
              "version_minor": 0,
              "model_id": "491cfe0bbb6446beb2e822b696fda66d"
            }
          },
          "metadata": {}
        },
        {
          "output_type": "display_data",
          "data": {
            "text/plain": [
              "Downloading:   0%|          | 0.00/878k [00:00<?, ?B/s]"
            ],
            "application/vnd.jupyter.widget-view+json": {
              "version_major": 2,
              "version_minor": 0,
              "model_id": "51133166677d41f7a6820e2ec3e0abf3"
            }
          },
          "metadata": {}
        },
        {
          "output_type": "display_data",
          "data": {
            "text/plain": [
              "Downloading:   0%|          | 0.00/446k [00:00<?, ?B/s]"
            ],
            "application/vnd.jupyter.widget-view+json": {
              "version_major": 2,
              "version_minor": 0,
              "model_id": "6f4c9977d7f045cfb633a6ccea9bb434"
            }
          },
          "metadata": {}
        }
      ]
    },
    {
      "cell_type": "markdown",
      "source": [
        "## 3. Scrape the blog post from internet."
      ],
      "metadata": {
        "id": "weR0xhK9DxZd"
      }
    },
    {
      "cell_type": "code",
      "source": [
        "URL = \"https://hackernoon.com/top-6-crypto-launchpads-in-2021-3fh34au\""
      ],
      "metadata": {
        "id": "-im0npeEDRVy"
      },
      "execution_count": 7,
      "outputs": []
    },
    {
      "cell_type": "code",
      "source": [
        "r = requests.get(URL)\n",
        "#print(r.text)"
      ],
      "metadata": {
        "id": "IQtUAkAiD-J_"
      },
      "execution_count": 11,
      "outputs": []
    },
    {
      "cell_type": "code",
      "source": [
        "soup = BeautifulSoup(r.text, 'html.parser')\n",
        "results = soup.find_all(['h1', 'p'])"
      ],
      "metadata": {
        "id": "gJgQtG08EKuR"
      },
      "execution_count": 12,
      "outputs": []
    },
    {
      "cell_type": "code",
      "source": [
        "#results"
      ],
      "metadata": {
        "id": "OSCnnuOgE0OX"
      },
      "execution_count": 17,
      "outputs": []
    },
    {
      "cell_type": "code",
      "source": [
        "results[9]"
      ],
      "metadata": {
        "colab": {
          "base_uri": "https://localhost:8080/"
        },
        "id": "qxMdprnBE7En",
        "outputId": "0182e744-3146-4791-eba6-fa94981d674f"
      },
      "execution_count": 20,
      "outputs": [
        {
          "output_type": "execute_result",
          "data": {
            "text/plain": [
              "<p class=\"paragraph\">Binance is the leading cryptocurrency exchange and fastest-growing trading platform based on trading volumes. Launched in 2017, Binance, as a platform, has not limited itself to just being a cryptocurrency exchange. Instead, it has expanded into a complete ecosystem for all kinds of crypto services as it establishes a strong foothold in the fastest-growing sector. </p>"
            ]
          },
          "metadata": {},
          "execution_count": 20
        }
      ]
    },
    {
      "cell_type": "code",
      "source": [
        "text = [result.text for result in results]\n",
        "article = ' '.join(text)"
      ],
      "metadata": {
        "id": "UYPr8v4eFkO3"
      },
      "execution_count": 23,
      "outputs": []
    },
    {
      "cell_type": "code",
      "source": [
        "#text"
      ],
      "metadata": {
        "id": "ARLPbOlVGQMR"
      },
      "execution_count": 26,
      "outputs": []
    },
    {
      "cell_type": "code",
      "source": [
        "article"
      ],
      "metadata": {
        "colab": {
          "base_uri": "https://localhost:8080/",
          "height": 123
        },
        "id": "9hQpHON4GgRM",
        "outputId": "c5568713-dda0-48a3-df9b-55fdb8982dfd"
      },
      "execution_count": 27,
      "outputs": [
        {
          "output_type": "execute_result",
          "data": {
            "text/plain": [
              "\"Top 6 Crypto Launchpads in 2021 👋 I write fluff-free & engaging content in crypto space, ECDSA to zk-SNARKs, Bitcoin to Polkadot, DeFi to NFTs 👨\\u200d💻 There is one universal truth in the crypto space - whoever gets in early, wins! Crypto aggregators list projects when they get significant amounts of traction. Discovering and identifying projects when they are at an early stage is very difficult. Missing out on those projects means you're leaving out massive returns on the table.\\xa0 Is there a platform or an aggregator to discover early-stage crypto projects before they get to the mainstream? Absolutely, and we call them Crypto Launchpads. Think of these platforms as AngelList crypto.\\xa0 Crypto launchpads have been gaining tremendous amounts of attention. They allow you to identify early-stage crypto projects and participate in their presale rounds. They also have a vetting process in place to avoid scams and rug-pulls, so you can invest with peace of mind without worrying about losing your hard-earned money.\\xa0 In this guide, we will be discussing some of the most popular crypto launchpads that are available today.  Let's dig in! Check out this video on Cryptocurrency below. Binance is the leading cryptocurrency exchange and fastest-growing trading platform based on trading volumes. Launched in 2017, Binance, as a platform, has not limited itself to just being a cryptocurrency exchange. Instead, it has expanded into a complete ecosystem for all kinds of crypto services as it establishes a strong foothold in the fastest-growing\\xa0sector.  The platform is lauded for its contributions to the DeFi industry and crypto ecosystem through its native token launch platform, Binance Launchpad.\\xa0Binance Launchpad functions as a token launch platform that facilitates early-stage crypto projects to raise funds using IEOs.  Binance Launchpad is known as the first successful example of a crypto launchpad. With numerous successful projects under its belt, Binance has raised millions of dollars for upcoming and promising projects such as BitTorrent, Injective Protocol, and PancakeSwap.\\xa0 Projects powered by the Binance Launchpads have seen significant growth in their numbers, reach, and success because the platform offers their IEO tokens to the 13 million active users on Binance exchange. Binance Launchpad isn’t just a platform for putting up tokens for sales; instead, it also serves as an advisory service for upcoming projects. Binance helps streamline, motivate, and mentor upcoming crypto projects with their experience and insights.\\xa0 Binance ensures the projects can access the best mentorship and marketing services so they can focus on the most critical developmental and technological aspects of the project.\\xa0 Note that projects listed on Binance Launchpad aren’t just your usual projects. These projects are survivors of Binance’s rigorous review and verification processes, where Binance determines if the project is up to its standards. Some of the factors that Binance factors in for the upcoming projects include: Once projects go through a selection process, they get featured on the Binance Launchpad to over 13 million active users on Binance who may be interested in participating and investing in the project’s token offerings.\\xa0 Moreover, before investing in any project, users can do their own research via the platform’s research portal, Binance Research, where they can find all the key details of the project like:\\xa0 All users have to do is complete their Binance verification processes. Binance ensures that tokens are sold in compliance with regulatory requirements.  A promising new entrant to the launchpad space, Red Kite is a platform where they launch hand-picked projects and allow investors to participate in a transparent and assured token sale process.\\xa0 There are two main reasons why promising crypto projects can't raise enough capital, i.e., poor marketing and investor's fear of scams. Americans have lost a little over $80 million in crypto scams since October 2020, a 1,000% increase from 2019.\\xa0 If we look at the other side of the picture, promising crypto projects can't be discovered by retail investors, which is a big reason why they end up investing in rug-pulls or exit scams because they had better marketing and discovery.\\xa0 Unlike other crypto launchpads, the Red Kite launchpad aims to solve these problems with its unique approach for investors and those crypto projects that are struggling to raise capital.\\xa0 For crypto projects - RedKite is backed by the community, influencers, and marketing partners to help your project get in front of the investors.\\xa0 For investors - All the crypto projects on the Red Kite launchpad are hand-picked, and they go through a very rigorous vetting process to enhance investors' confidence and protect their interests.\\xa0 Red Kite aims to become a safer platform where investors can select the hand-picked and vetted projects without worrying about a rug pull or an exit scam. This doesn't end here; Red Kite launchpad offers distinctive features that differentiate it from the rest of the ecosystem players.\\xa0 Multi-chain support - Red Kite supports both Ethereum and BSC pools out of the box. It will soon support Polkadot and become the first launchpad on the Polkadot network with flexible pool types and whitelist conditions.\\xa0 Tier and Reputation - One of the biggest problems in any pre-sale round of a token is price manipulation. Red Kite launchpad has a tier-based reputation system that monitors each participant's behavior and assigns reputation points. Any malicious activity will affect the participant's reputation and his ability to participate in the subsequent launches. Fairness - If you have participated in an ERC-20 token pre-sale, you might have heard the term 'gas war,' where participants bid higher gas prices to discourage small investors from participating in the pre-sale. Red Kite launchpad has implemented a lane-based swap system that allows each participant to get an opportunity to join based on their tier.\\xa0 Integrated vesting schedule - Unlike other launchpads, Red Kite launchpad has a distribution portal that will allow projects to vest their tokens in pre-sale or post-sale secondary offerings.\\xa0 Parachain Crowdloan - Red Kite launchpad will fully support crowdloan campaigns to secure parachain slots on Kusama and Polkadot. Projects will be able to collect DOT or KSM tokens to win the parachain auction. Red Kite is part of the PolkaFoundry ecosystem and supports the platform's native PKF token as a utility token. Investors have to hold PKF tokens to participate in the token sale rounds on the Red Kite launchpad.\\xa0 Red Kite launchpad now fully supports Coinbase Wallet and BSC Wallet and has integrated Blockpass to secure the KYC process. This is just the beginning for Red Kite, and it aims to evolve from just being a launchpad to offer a full suite of DeFi services in the future. TrustSwap is often lauded to bring the evolution of Defi transactions as it solves major issues with subscriptions, split payments, and cross-chain token swaps. TrustSwap initially emerged as a trustless P2P escrow service that expanded its vision to incorporate some of the most revolutionary services in the blockchain into the DeFi ecosystem through smart contracts.\\xa0 TrustSwap aims to promote the mass adoption of DeFi products by introducing Decentralized Subscription and payment models, cross-chain and multi-currency support, and trustless escrow and split payments through smart contracts. Moreover, TrustSwap continues to expand and contribute to the TrustSwap ecosystem by introducing its native project launchpad, called TrustSwap Launchpad. The TrustSwap launchpad is a full-service launchpad for emerging crypto projects that want to utilize the security, trustless-ness, and sustainability.\\xa0 TrustSwap has engineered a committed community around its ecosystem. It allows users to stake a minimum of 4,000 SWAP tokens, the platform’s native token, to gain early access to promising crypto projects. Trust Swap aims to mitigate immediate sell-offs and rug-pulls after token launches through its token lock-up mechanism called the SmartLaunch toolkit. The SmartLaunch toolkit is a customizable, full-audited service that locks up tokens for the team, developers, and early adopters until a certain development milestone or waiting period is achieved.\\xa0 The SmartLaunch system gives all parties, including investors and the team behind the project, a sense of security and confidence that nobody will put each other under the bus. Moreover, it holds the development team accountable to their community through its decentralized split payment and escrow service with respect to concrete achievements.\\xa0 Projects selected by Trust Swap gain access to an avenue of benefits such as large-scale publicity, trust from the community, marketing support, and visibility. Since its launch in September 2020, Trust Swap has raised over $20 million in funding for various emerging crypto projects. These projects include the likes of Chain Games, Glitch Finance, SOTA, and BitCashpay. Established in late 2020, Polkastarter is undoubtedly one of the more recent additions to the list. The Polkastarter platform has a lot of promise considering it attracted over 200,000 enthusiastic investors.\\xa0 Polkastarter is an upcoming decentralized exchange built on the Polkadot network for token pools and auctions. Polkastarter serves as a decentralized crowdfunding launchpad for early-stage crypto projects to raise capital, increase outreach, build a dedicated community, and gain access to the platform’s benefits.\\xa0 Polkastarter is established on highly interoperable Polkadot network. It is benefits from all the features of Polkadot, including the liquidity of Ethereum and other leading crypto projects. A lot of this platform’s potential attributes to its cross-chain development. The Polkastarter platform is designed to enable projects to launch their own interoperable token pools.\\xa0 Given that leading platforms such as Ethereum and Bitcoin still struggle with network congestion, the Polkadot ecosystem and the Polkastarter platform can be very rewarding and beneficial for upcoming projects.\\xa0 Polkastarter is developed with familiar auction systems such as sealed-bid auctions, dutch auctions, and dynamic and fixed ratio swap. Other features include password-protected private pools, whitelisting, smart contract token swaps, and price alerts, which helps Polkastarter stand out as a unique platform for upcoming projects.\\xa0 Moreover, the Polkastarter protocol is entirely decentralized. The platform is open-source and has a permission-less environment. This means that any developer can integrate Polkastarter’s core framework into their own project to create and hold fixed token auctions.\\xa0 Polkastarter also has a native utility token called the POLS token. Users can use the POLS tokens to pay for transaction fees and participate in the governance through Polkastarter Council for Governance. To promote a user-friendly and rewarding ecosystem, Polkastarter allows users to earn rewards by staking POLS tokens and gain early access to upcoming token pools through staking.\\xa0 However, note that users must provide liquidity before they can stake their POLS tokens and earn rewards. Polkastarter aspires to be the largest decentralized token launch pool and auction platform in the market; therefore, it aims to develop a tokenomics structure catered to handle a level of global volume by offering exclusive incentives and rewards to its users for providing liquidity to upcoming token pools.\\xa0 Polkastarter plans to reward liquidity providers in POLS tokens every week, relative to the percentage of the pool they have provided liquidity to. Note that the rewards will appear for 24 hours so users can claim their rewards. However, if users fail to collect their rewards within 24 hours, their rewards will be redistributed later.\\xa0 SpiderDAO, MahaDAO, Kambria, Fire Protocol, and Exceedme are some of the top-performing launchpad pools on Polkastarter. Interestingly, these token sales sold out in minutes.  Unicrypt is another budding blockchain platform that aims to create the best possible environment for liquidity providers by emphasizing users’ trust. Similar to Polkastarter, Unicrypt was introduced to the crypto space in late 2020. Unicrypt envisioned launching an autonomous platform that would help emerging projects benefit from the exclusive features and a broader community.\\xa0 Through experiencing, observing, analyzing, and inclusively studying the hardships early-stage crypto projects face, Unicrypt found that most projects lack proper support, funding, and promotions. Therefore, Unicrypt plans to solve these issues by serving as a platform that enables any project to host a presale. Most centralized and decentralized exchanges hold rigorous verification processes that can be very hard to pass. Projects have to match several factors on various exchanges. These are not limited to but include project history, existence, potential in the crypto market, feasibility, possibility for adoption, post-launch analysis, and more. While these processes and thresholds may be necessary; however, they can be intimidating for younger projects.\\xa0 Launching on Unicrypt is relatively straightforward. For a project to list its token on Unicrypt, it has to launch its token and set a soft and hard cap. Furthermore, the project can later specify the rounds for its presale; note that the launchpad has a maximum of two rounds. After the project has launched its token and specified the rounds for its presale, it will specify the currency it prefers to raise with USDC, USDT, DAI, ETC, among several others.\\xa0 Note that the first round of the presale is exclusively available for Unicrypt’s native token holders: UNCX or UNCL. Typically these token pre-sales often end within minutes.\\xa0 However, users must hold $500 of native tokens to participate. The second round is inclusive for anyone, although project teams can specify a whitelisted address list.\\xa0 Moreover, another important point to note is that projects launching their tokens must lock a minimum of 30% of the liquidity on Uniswap. However, it is advised that platforms lock more than the minimum requirement.\\xa0 Unlike other centralized or decentralized launchpads, Unicrypt offers an entirely autonomous option that emphasizes inclusivity, simplicity, and fairness and gives investors a platform to access exclusive and upcoming crypto projects.\\xa0  DuckDAO is a one-of-a-kind incubator for digital assets backed by an enthusiastic community. The decentralized incubator allows upcoming projects to benefit from the community’s investment power and buzz-making potential to reach its maxim potential.\\xa0 DuckDAO plans to source and secure potentially lucrative investment opportunities for its community by democratizing the early-stage investment space in the crypto ecosystem. DuckDAO’s model is unique when it comes to launchpads. It serves as a decentralized venture capital investment platform, where users have to hold the platform’s DuckDAODime, also known as DDIM, to gain access to upcoming and emerging projects.\\xa0 By holding the platform’s native tokens, users can gain access to many exclusive communities, where they can benefit from the deals. Since DuckDAO is powered by its community, it allows anyone to invest in budding early-stage crypto projects and share a hand in its development by helping it with user acquisition and marketing processes.\\xa0 Moreover, DuckDAO aims to cultivate long-term partnerships with the projects it hosts on the platform. DuckDAO aims to work with its partnered projects from the beginning until they’re listed on an exchange. Projects can benefit from marketing, veteran advice, and various listing services that will surely help the project catalyze its growth and success.\\xa0 Additionally, DuckDAO also plans to assist hosted projects with various social media strategies, OTC sales, and community sales to ensure projects can establish a healthy and natural growth.\\xa0\\xa0\\xa0\\xa0\\xa0\\xa0\\xa0\\xa0\\xa0\\xa0\\xa0\\xa0\\xa0\\xa0\\xa0\\xa0 However, note that for projects to be listed and hosted by DuckDAO, they have to go through the platform’s due diligence checks to ensure they meet their standards and stand an excellent chance of success with the community’s help.\\xa0 Besides DuckDAO, the platform is also home to a public token launchpad called the DuckSTARTER. DuckSTARTER seeks to act as the final step between upcoming crypto projects and the community before the project is publicly listed. Users can contribute to the project in either USDC or ETH, according to the project’s requirements. Moreover, DUCK token holders can also participate in the project’s token sales before it’s publicly listed.\\xa0 DuckSTARTER ensures all participants get an equal chance of success in acquiring an investment allocation. Announced this year, DuckSTARTER saw a lot of success. Interestingly, projects launched through the platform have seen impressive numbers, with projects such as Shadows generating a maximum return of 42.9x for participants. Currently, DuckStarter is based on the Ethereum blockchain; however, it plans to expand to the Polkadot ecosystem and benefit from faster and cheaper transactions in an interoperable environment.  Discovering and identifying promising early-stage projects in the crypto space is a big deal! The fact that investors lose hundreds of millions of dollars every year to scams is a clear indication that money is always there in the market, but it just flows in the wrong direction.  Crypto launchpads are unique ecosystem players that bridge the gap between investors and promising early-stage crypto projects, bringing immense value to the overall crypto ecosystem.  Happy investing! Over and out!Haroon Signup or Login to Join the Discussion Enter the Decentralized Internet Writing Contest! Quality Weekly Reads About Technology Infiltrating Everything\""
            ],
            "application/vnd.google.colaboratory.intrinsic+json": {
              "type": "string"
            }
          },
          "metadata": {},
          "execution_count": 27
        }
      ]
    },
    {
      "cell_type": "markdown",
      "source": [
        "## 4. Chunking the processed text"
      ],
      "metadata": {
        "id": "a1oixxXrGtCM"
      }
    },
    {
      "cell_type": "code",
      "source": [
        "article = article.replace('.', '.<eos>')\n",
        "article = article.replace('!', '!<eos>')\n",
        "article = article.replace('?', '?<eos>')\n",
        "\n",
        "sentences = article.split('<eos>')"
      ],
      "metadata": {
        "id": "ElEPCTOQGnjt"
      },
      "execution_count": 28,
      "outputs": []
    },
    {
      "cell_type": "code",
      "source": [
        "#sentences"
      ],
      "metadata": {
        "id": "q4mrSNfEH4ne"
      },
      "execution_count": 31,
      "outputs": []
    },
    {
      "cell_type": "code",
      "source": [
        "sentences[7]"
      ],
      "metadata": {
        "colab": {
          "base_uri": "https://localhost:8080/",
          "height": 36
        },
        "id": "JZawMZJXH7Lx",
        "outputId": "0dd3e330-af2c-400d-dd13-8fe61b575b32"
      },
      "execution_count": 32,
      "outputs": [
        {
          "output_type": "execute_result",
          "data": {
            "text/plain": [
              "'\\xa0 Crypto launchpads have been gaining tremendous amounts of attention.'"
            ],
            "application/vnd.google.colaboratory.intrinsic+json": {
              "type": "string"
            }
          },
          "metadata": {},
          "execution_count": 32
        }
      ]
    },
    {
      "cell_type": "code",
      "source": [
        "max_chunk = 500\n",
        "current_chunk = 0\n",
        "chunks = []\n",
        "\n",
        "for sentence in sentences:\n",
        "  if len(chunks) == current_chunk+1:\n",
        "    if len(chunks[current_chunk]) + len(sentence.split(' ')) <= max_chunk:\n",
        "      chunks[current_chunk].extend(sentence.split(' '))\n",
        "    else:\n",
        "      current_chunk += 1;\n",
        "      chunks.append(sentence.split(' '))\n",
        "  \n",
        "  else:\n",
        "    print(current_chunk)\n",
        "    chunks.append(sentence.split(' '))"
      ],
      "metadata": {
        "colab": {
          "base_uri": "https://localhost:8080/"
        },
        "id": "BuDXuTNIIARE",
        "outputId": "debbe77c-be82-4b8d-e7ba-181f1216768c"
      },
      "execution_count": 33,
      "outputs": [
        {
          "output_type": "stream",
          "name": "stdout",
          "text": [
            "0\n"
          ]
        }
      ]
    },
    {
      "cell_type": "code",
      "source": [
        "#chunks[0]"
      ],
      "metadata": {
        "id": "YZGQQKvbOSoI"
      },
      "execution_count": 37,
      "outputs": []
    },
    {
      "cell_type": "code",
      "source": [
        "for chunk_id in range(len(chunks)):\n",
        "  chunks[chunk_id] = ' '.join(chunks[chunk_id])"
      ],
      "metadata": {
        "id": "NoKIbPKHOTz3"
      },
      "execution_count": 38,
      "outputs": []
    },
    {
      "cell_type": "code",
      "source": [
        "len(chunks[3].split(' '))"
      ],
      "metadata": {
        "colab": {
          "base_uri": "https://localhost:8080/"
        },
        "id": "98cSyetDQiKt",
        "outputId": "8b133c7e-20c2-4c7a-b553-5a2eaaa338aa"
      },
      "execution_count": 41,
      "outputs": [
        {
          "output_type": "execute_result",
          "data": {
            "text/plain": [
              "480"
            ]
          },
          "metadata": {},
          "execution_count": 41
        }
      ]
    },
    {
      "cell_type": "code",
      "source": [
        "chunks[2]"
      ],
      "metadata": {
        "colab": {
          "base_uri": "https://localhost:8080/",
          "height": 123
        },
        "id": "L821HX0mQklC",
        "outputId": "e86d1d2e-0952-4e58-91d9-e2c5cc881bf5"
      },
      "execution_count": 44,
      "outputs": [
        {
          "output_type": "execute_result",
          "data": {
            "text/plain": [
              "\" Red Kite launchpad has implemented a lane-based swap system that allows each participant to get an opportunity to join based on their tier. \\xa0 Integrated vesting schedule - Unlike other launchpads, Red Kite launchpad has a distribution portal that will allow projects to vest their tokens in pre-sale or post-sale secondary offerings. \\xa0 Parachain Crowdloan - Red Kite launchpad will fully support crowdloan campaigns to secure parachain slots on Kusama and Polkadot.  Projects will be able to collect DOT or KSM tokens to win the parachain auction.  Red Kite is part of the PolkaFoundry ecosystem and supports the platform's native PKF token as a utility token.  Investors have to hold PKF tokens to participate in the token sale rounds on the Red Kite launchpad. \\xa0 Red Kite launchpad now fully supports Coinbase Wallet and BSC Wallet and has integrated Blockpass to secure the KYC process.  This is just the beginning for Red Kite, and it aims to evolve from just being a launchpad to offer a full suite of DeFi services in the future.  TrustSwap is often lauded to bring the evolution of Defi transactions as it solves major issues with subscriptions, split payments, and cross-chain token swaps.  TrustSwap initially emerged as a trustless P2P escrow service that expanded its vision to incorporate some of the most revolutionary services in the blockchain into the DeFi ecosystem through smart contracts. \\xa0 TrustSwap aims to promote the mass adoption of DeFi products by introducing Decentralized Subscription and payment models, cross-chain and multi-currency support, and trustless escrow and split payments through smart contracts.  Moreover, TrustSwap continues to expand and contribute to the TrustSwap ecosystem by introducing its native project launchpad, called TrustSwap Launchpad.  The TrustSwap launchpad is a full-service launchpad for emerging crypto projects that want to utilize the security, trustless-ness, and sustainability. \\xa0 TrustSwap has engineered a committed community around its ecosystem.  It allows users to stake a minimum of 4,000 SWAP tokens, the platform’s native token, to gain early access to promising crypto projects.  Trust Swap aims to mitigate immediate sell-offs and rug-pulls after token launches through its token lock-up mechanism called the SmartLaunch toolkit.  The SmartLaunch toolkit is a customizable, full-audited service that locks up tokens for the team, developers, and early adopters until a certain development milestone or waiting period is achieved. \\xa0 The SmartLaunch system gives all parties, including investors and the team behind the project, a sense of security and confidence that nobody will put each other under the bus.  Moreover, it holds the development team accountable to their community through its decentralized split payment and escrow service with respect to concrete achievements. \\xa0 Projects selected by Trust Swap gain access to an avenue of benefits such as large-scale publicity, trust from the community, marketing support, and visibility.  Since its launch in September 2020, Trust Swap has raised over $20 million in funding for various emerging crypto projects.\""
            ],
            "application/vnd.google.colaboratory.intrinsic+json": {
              "type": "string"
            }
          },
          "metadata": {},
          "execution_count": 44
        }
      ]
    },
    {
      "cell_type": "markdown",
      "source": [
        "## 5. Summarize text"
      ],
      "metadata": {
        "id": "MmFsDI_tRmQ5"
      }
    },
    {
      "cell_type": "code",
      "source": [
        "res = summarizer(chunks, max_length=120, min_length=20, do_sample=False)"
      ],
      "metadata": {
        "id": "fYamqsLWRNbG"
      },
      "execution_count": 61,
      "outputs": []
    },
    {
      "cell_type": "code",
      "source": [
        "res[0].keys()"
      ],
      "metadata": {
        "colab": {
          "base_uri": "https://localhost:8080/"
        },
        "id": "4wBF8I6pSUbD",
        "outputId": "616930b4-d9ec-4e49-b430-238cbed1290f"
      },
      "execution_count": 62,
      "outputs": [
        {
          "output_type": "execute_result",
          "data": {
            "text/plain": [
              "dict_keys(['summary_text'])"
            ]
          },
          "metadata": {},
          "execution_count": 62
        }
      ]
    },
    {
      "cell_type": "code",
      "source": [
        "res"
      ],
      "metadata": {
        "colab": {
          "base_uri": "https://localhost:8080/"
        },
        "id": "u9DhUYc2S36S",
        "outputId": "bd599a7d-19f2-430f-b7c2-f6c3d45054bb"
      },
      "execution_count": 63,
      "outputs": [
        {
          "output_type": "execute_result",
          "data": {
            "text/plain": [
              "[{'summary_text': ' Crypto launchpads have been gaining tremendous amounts of attention . They allow you to identify early-stage crypto projects and participate in presale rounds . They also have a vetting process in place to avoid scams and rug-pulls . Binance Launchpad is known as the first successful example of a crypto launchpad .'},\n",
              " {'summary_text': \" Red Kite is a platform where they launch hand-picked projects and allow investors to participate in a transparent and assured token sale process . RedKite is backed by the community, influencers, and marketing partners to help your project get in front of the investors . The platform has a tier-based reputation system that monitors each participant's behavior and assigns reputation points .\"},\n",
              " {'summary_text': ' Red Kite launchpad has implemented a lane-based swap system that allows each participant to get an opportunity to join based on their tier . Parachain Crowdloan campaigns to secure parachain slots on Kusama and Polkadot will be able to collect DOT or KSM tokens to win the parachain auction .'},\n",
              " {'summary_text': ' Polkastarter is an upcoming decentralized exchange built on the Polkadot network for token pools and auctions . It is a decentralized crowdfunding launchpad for early-stage crypto projects to raise capital, increase outreach, build a dedicated community, and gain access to the platform’s benefits . The platform is open-source and has a permission-less environment . Polkastarters also has a native utility token called the POLS token .'},\n",
              " {'summary_text': ' Unicrypt is another budding blockchain platform that aims to create the best possible environment for liquidity providers by emphasizing users’ trust . For a project to list its token on Unicrypt, it has to launch its token and set a soft and hard cap . DuckDAO is a one-of-a-kind incubator for digital assets backed by an enthusiastic community .'},\n",
              " {'summary_text': ' DuckDAO is powered by its community, it allows anyone to invest in budding early-stage crypto projects and share a hand in its development by helping it with user acquisition and marketing processes . The platform is also home to a public token launchpad called DuckSTARTER, which is based on the Ethereum blockchain . DuckSTARter seeks to act as the final step between upcoming projects and the community before the project is publicly listed .'}]"
            ]
          },
          "metadata": {},
          "execution_count": 63
        }
      ]
    },
    {
      "cell_type": "code",
      "source": [
        "res[0]"
      ],
      "metadata": {
        "colab": {
          "base_uri": "https://localhost:8080/"
        },
        "id": "1wojGK9oS94d",
        "outputId": "3f788e4e-2f83-4dc5-9e91-25418ff2bb90"
      },
      "execution_count": 64,
      "outputs": [
        {
          "output_type": "execute_result",
          "data": {
            "text/plain": [
              "{'summary_text': ' Crypto launchpads have been gaining tremendous amounts of attention . They allow you to identify early-stage crypto projects and participate in presale rounds . They also have a vetting process in place to avoid scams and rug-pulls . Binance Launchpad is known as the first successful example of a crypto launchpad .'}"
            ]
          },
          "metadata": {},
          "execution_count": 64
        }
      ]
    },
    {
      "cell_type": "code",
      "source": [
        "' '.join([sum['summary_text'] for sum in res])"
      ],
      "metadata": {
        "colab": {
          "base_uri": "https://localhost:8080/",
          "height": 123
        },
        "id": "RY5wfdg3S_5u",
        "outputId": "314e483c-5807-49ad-fc2c-a26420c21d6d"
      },
      "execution_count": 65,
      "outputs": [
        {
          "output_type": "execute_result",
          "data": {
            "text/plain": [
              "\" Crypto launchpads have been gaining tremendous amounts of attention . They allow you to identify early-stage crypto projects and participate in presale rounds . They also have a vetting process in place to avoid scams and rug-pulls . Binance Launchpad is known as the first successful example of a crypto launchpad .  Red Kite is a platform where they launch hand-picked projects and allow investors to participate in a transparent and assured token sale process . RedKite is backed by the community, influencers, and marketing partners to help your project get in front of the investors . The platform has a tier-based reputation system that monitors each participant's behavior and assigns reputation points .  Red Kite launchpad has implemented a lane-based swap system that allows each participant to get an opportunity to join based on their tier . Parachain Crowdloan campaigns to secure parachain slots on Kusama and Polkadot will be able to collect DOT or KSM tokens to win the parachain auction .  Polkastarter is an upcoming decentralized exchange built on the Polkadot network for token pools and auctions . It is a decentralized crowdfunding launchpad for early-stage crypto projects to raise capital, increase outreach, build a dedicated community, and gain access to the platform’s benefits . The platform is open-source and has a permission-less environment . Polkastarters also has a native utility token called the POLS token .  Unicrypt is another budding blockchain platform that aims to create the best possible environment for liquidity providers by emphasizing users’ trust . For a project to list its token on Unicrypt, it has to launch its token and set a soft and hard cap . DuckDAO is a one-of-a-kind incubator for digital assets backed by an enthusiastic community .  DuckDAO is powered by its community, it allows anyone to invest in budding early-stage crypto projects and share a hand in its development by helping it with user acquisition and marketing processes . The platform is also home to a public token launchpad called DuckSTARTER, which is based on the Ethereum blockchain . DuckSTARter seeks to act as the final step between upcoming projects and the community before the project is publicly listed .\""
            ],
            "application/vnd.google.colaboratory.intrinsic+json": {
              "type": "string"
            }
          },
          "metadata": {},
          "execution_count": 65
        }
      ]
    },
    {
      "cell_type": "markdown",
      "source": [
        "## 6. Output to a .txt file"
      ],
      "metadata": {
        "id": "iph3kdZrU_J7"
      }
    },
    {
      "cell_type": "code",
      "source": [
        "content = ' '.join([sum['summary_text'] for sum in res])"
      ],
      "metadata": {
        "id": "ftWOzEfVVHhI"
      },
      "execution_count": 67,
      "outputs": []
    },
    {
      "cell_type": "code",
      "source": [
        "with open('summary.txt', 'w') as f:\n",
        "  f.write(content)"
      ],
      "metadata": {
        "id": "7_JxR8FfVWRx"
      },
      "execution_count": 68,
      "outputs": []
    },
    {
      "cell_type": "code",
      "source": [
        ""
      ],
      "metadata": {
        "id": "4T33gopkVfpA"
      },
      "execution_count": null,
      "outputs": []
    }
  ]
}